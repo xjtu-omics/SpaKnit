{
 "cells": [
  {
   "cell_type": "markdown",
   "metadata": {},
   "source": [
    "## Single Modality Analysis of Mouse Brain Dataset"
   ]
  },
  {
   "cell_type": "markdown",
   "metadata": {},
   "source": [
    "## Loading package"
   ]
  },
  {
   "cell_type": "code",
   "execution_count": 1,
   "metadata": {},
   "outputs": [],
   "source": [
    "import warnings\n",
    "warnings.filterwarnings('ignore')\n",
    "import os\n",
    "import torch\n",
    "import pandas as pd\n",
    "import scanpy as sc\n",
    "import matplotlib.pyplot as plt\n",
    "from itertools import product\n",
    "import numpy as np\n",
    "import sys\n",
    "\n",
    "# the location of R (used for the mclust clustering)\n",
    "os.environ['R_HOME'] = 'E:/R-4.3.1'\n",
    "os.environ['R_USER'] = 'E:/anaconda/lib/site-packages/rpy2'\n",
    "\n",
    "save_path = 'D:/study/learning/spatial_transcriptome/papers/spatial_multi_omics-main/Results/Visualization/Mouse_Thymus/' \n",
    "\n",
    "import sys\n",
    "sys.path.insert(0, 'D:/study/learning/spatial_transcriptome/papers/spatial_multi_omics-main/Model/')\n",
    "from preprocess import preprocessing\n",
    "from utils import mclust_R"
   ]
  },
  {
   "cell_type": "markdown",
   "metadata": {},
   "source": [
    "## Loading and Preprocessing data"
   ]
  },
  {
   "cell_type": "code",
   "execution_count": 2,
   "metadata": {},
   "outputs": [
    {
     "name": "stdout",
     "output_type": "stream",
     "text": [
      "Spatial-epigenome-transcriptome data preprocessing have done!\n",
      "Dimensions after preprocessed adata_modal_1: (9196, 3000)\n",
      "Dimensions after preprocessing adata_modal_2: (9196, 121068)\n",
      "Spatial-epigenome-transcriptome data preprocessing have done!\n",
      "Dimensions after preprocessed adata_modal_1: (9513, 3000)\n",
      "Dimensions after preprocessing adata_modal_2: (9513, 35270)\n",
      "Spatial-epigenome-transcriptome data preprocessing have done!\n",
      "Dimensions after preprocessed adata_modal_1: (9323, 3000)\n",
      "Dimensions after preprocessing adata_modal_2: (9323, 104162)\n",
      "Spatial-epigenome-transcriptome data preprocessing have done!\n",
      "Dimensions after preprocessed adata_modal_1: (9732, 3000)\n",
      "Dimensions after preprocessing adata_modal_2: (9732, 70470)\n"
     ]
    }
   ],
   "source": [
    "file_fold_1 = 'D:/study/learning/spatial_transcriptome/papers/spatial_multi_omics-main/data/Mouse_Brain_ATAC/'\n",
    "file_fold_2 = 'D:/study/learning/spatial_transcriptome/papers/spatial_multi_omics-main/data/Mouse_Brain_H3K4me3/'\n",
    "file_fold_3 = 'D:/study/learning/spatial_transcriptome/papers/spatial_multi_omics-main/data/Mouse_Brain_H3K27ac/'\n",
    "file_fold_4 = 'D:/study/learning/spatial_transcriptome/papers/spatial_multi_omics-main/data/Mouse_Brain_H3K27me3/'\n",
    "\n",
    "adata_omics_1_1 = sc.read_h5ad(file_fold_1 + 'adata_RNA.h5ad')\n",
    "adata_omics_1_2 = sc.read_h5ad(file_fold_1 + 'adata_peaks_normalized.h5ad')\n",
    "\n",
    "adata_omics_2_1 = sc.read_h5ad(file_fold_2 + 'adata_RNA.h5ad')\n",
    "adata_omics_2_2 = sc.read_h5ad(file_fold_2 + 'adata_peaks_normalized.h5ad')\n",
    "\n",
    "adata_omics_3_1 = sc.read_h5ad(file_fold_3 + 'adata_RNA.h5ad')\n",
    "adata_omics_3_2 = sc.read_h5ad(file_fold_3 + 'adata_peaks_normalized.h5ad')\n",
    "\n",
    "adata_omics_4_1 = sc.read_h5ad(file_fold_4 + 'adata_RNA.h5ad')\n",
    "adata_omics_4_2 = sc.read_h5ad(file_fold_4 + 'adata_peaks_normalized.h5ad')\n",
    "\n",
    "adata_omics_1_1.var_names_make_unique()\n",
    "adata_omics_1_2.var_names_make_unique()\n",
    "adata_omics_2_1.var_names_make_unique()\n",
    "adata_omics_2_2.var_names_make_unique()\n",
    "adata_omics_3_1.var_names_make_unique()\n",
    "adata_omics_3_2.var_names_make_unique()\n",
    "adata_omics_4_1.var_names_make_unique()\n",
    "adata_omics_4_2.var_names_make_unique()\n",
    "\n",
    "adata_omics_1_1, adata_omics_1_2 = preprocessing(adata_omics_1_1, adata_omics_1_2, 'Spatial-epigenome-transcriptome')\n",
    "adata_omics_2_1, adata_omics_2_2 = preprocessing(adata_omics_2_1, adata_omics_2_2, 'Spatial-epigenome-transcriptome')\n",
    "adata_omics_3_1, adata_omics_3_2 = preprocessing(adata_omics_3_1, adata_omics_3_2, 'Spatial-epigenome-transcriptome')\n",
    "adata_omics_4_1, adata_omics_4_2 = preprocessing(adata_omics_4_1, adata_omics_4_2, 'Spatial-epigenome-transcriptome')"
   ]
  },
  {
   "cell_type": "markdown",
   "metadata": {},
   "source": [
    "## Single Modality Clustering"
   ]
  },
  {
   "cell_type": "code",
   "execution_count": 3,
   "metadata": {},
   "outputs": [],
   "source": [
    "## 分析的切片\n",
    "adata_RNA_analysis = adata_omics_1_1\n",
    "adata_ATAC_analysis = adata_omics_1_2"
   ]
  },
  {
   "cell_type": "code",
   "execution_count": 4,
   "metadata": {},
   "outputs": [],
   "source": [
    "## 计算PCA后的RNA\n",
    "sc.pp.pca(adata_RNA_analysis)\n",
    "sc.pp.neighbors(adata_RNA_analysis, use_rep='X_pca')\n",
    "\n",
    "## 计算PCA后的ADT\n",
    "sc.pp.pca(adata_ATAC_analysis)\n",
    "sc.pp.neighbors(adata_ATAC_analysis, use_rep='X_pca')"
   ]
  },
  {
   "cell_type": "code",
   "execution_count": null,
   "metadata": {},
   "outputs": [
    {
     "name": "stdout",
     "output_type": "stream",
     "text": [
      "['3', '2', '1', '4', '11', ..., '9', '7', '0', '10', '12']\n",
      "Length: 13\n",
      "Categories (13, object): ['0', '1', '2', '3', ..., '9', '10', '11', '12']\n",
      "['2', '7', '0', '4', '3', ..., '1', '11', '6', '10', '12']\n",
      "Length: 13\n",
      "Categories (13, object): ['0', '1', '2', '3', ..., '9', '10', '11', '12']\n"
     ]
    }
   ],
   "source": [
    "# resolution combinations, ensuring appropriate number of clusters\n",
    "# 1.2   0.9\n",
    "# 0.83  1.4\n",
    "# 1     1\n",
    "# 0.85  1.35\n",
    "sc.tl.leiden(adata_RNA_analysis, key_added=\"clusters_leiden\", resolution=1.2)\n",
    "sc.tl.leiden(adata_ATAC_analysis, key_added=\"clusters_leiden\", resolution=0.9)\n",
    "print(adata_RNA_analysis.obs['clusters_leiden'].unique())\n",
    "print(adata_ATAC_analysis.obs['clusters_leiden'].unique())"
   ]
  },
  {
   "cell_type": "code",
   "execution_count": 5,
   "metadata": {},
   "outputs": [
    {
     "data": {
      "text/plain": [
       "AnnData object with n_obs × n_vars = 9196 × 0\n",
       "    obs: 'SpaKnit', 'SpatialGlue', 'SpaGCN', 'STAGATE', 'Modality1', 'Modality2', 'MultiMAP', 'MultiVI'\n",
       "    obsm: 'Modality1', 'Modality2', 'MultiMAP', 'MultiVI', 'STAGATE', 'SpaKnit', 'SpatialGlue', 'spatial'"
      ]
     },
     "execution_count": 5,
     "metadata": {},
     "output_type": "execute_result"
    }
   ],
   "source": [
    "results = sc.read_h5ad('D:/study/learning/spatial_transcriptome/papers/spatial_multi_omics-main/Results/Mouse_Brain_ATAC.h5ad')\n",
    "results"
   ]
  },
  {
   "cell_type": "code",
   "execution_count": null,
   "metadata": {},
   "outputs": [],
   "source": [
    "# results.obs['Modality1'] = adata_RNA_analysis.obs[\"clusters_leiden\"].values\n",
    "# results.obsm['Modality1'] = adata_RNA_analysis.obsm['X_pca']\n",
    "# results.obs['Modality2'] = adata_ATAC_analysis.obs[\"clusters_leiden\"].values\n",
    "# results.obsm['Modality2'] = adata_ATAC_analysis.obsm['X_pca']\n",
    "# results.write_h5ad('D:/study/learning/spatial_transcriptome/papers/spatial_multi_omics-main/Results/Mouse_Brain_ATAC.h5ad')"
   ]
  },
  {
   "cell_type": "code",
   "execution_count": null,
   "metadata": {},
   "outputs": [],
   "source": [
    "## RNA Modality\n",
    "plt.rcParams['font.size'] = 20\n",
    "plt.rcParams['font.sans-serif'] = 'Arial'\n",
    "fig, ax = plt.subplots(1,1, figsize=(6,6))\n",
    "colors = [\n",
    "    '#52b69a', '#e07a5f', '#d3edbe',  '#f4a259', '#e6db9e', '#d5a376', '#f9c74f', '#597b84',\n",
    "    '#F19C79', '#ffbb78', '#98df8a', '#83c5be', '#a38161'\n",
    "]\n",
    "sc.pl.embedding(adata_ATAC_analysis, basis='spatial', color='clusters_leiden', ax=ax, s=70, show=False, palette=colors)\n",
    "ax.set_title('RNA analysis')\n",
    "# remove x, y axis\n",
    "ax.set_xlabel('')\n",
    "ax.set_ylabel('')\n",
    "# remove legend\n",
    "ax.get_legend().remove()\n",
    "\n",
    "# plt.savefig(save_path + 'ATAC1_RNA.png', bbox_inches='tight', dpi=500)\n",
    "# plt.savefig(save_path + 'ATAC1_RNA.eps', bbox_inches='tight', dpi=500)"
   ]
  },
  {
   "cell_type": "code",
   "execution_count": null,
   "metadata": {},
   "outputs": [],
   "source": [
    "## RNA UMAP\n",
    "fig, ax = plt.subplots(1,1, figsize=(6,6))\n",
    "sc.pl.umap(adata_RNA_analysis, color='clusters_leiden', ax=ax,legend_loc='on data',legend_fontoutline=5, show=False)\n",
    "ax.set_title('UMAP visulization')\n",
    "# remove x, y axis\n",
    "ax.set_xlabel('')\n",
    "ax.set_ylabel('')\n",
    "# plt.savefig(save_path + 'ATAC_RNA_UMAP.png', bbox_inches='tight', dpi=500)\n",
    "# plt.savefig(save_path + 'ATAC_RNA_UMAP.eps', bbox_inches='tight', dpi=500)"
   ]
  },
  {
   "cell_type": "code",
   "execution_count": null,
   "metadata": {},
   "outputs": [],
   "source": [
    "# # RNA PAGA\n",
    "plt.rcParams['font.size'] = 20\n",
    "plt.rcParams['font.sans-serif'] = 'Arial'\n",
    "fig, ax = plt.subplots(1,1, figsize=(6,6))\n",
    "sc.tl.paga(adata_RNA_analysis, groups='clusters_leiden')\n",
    "sc.pl.paga(adata_RNA_analysis, edge_width_scale=1, node_size_scale=3, ax=ax, show=False, threshold=0.4, fontoutline=3)\n",
    "ax.set_title('PAGA graph')\n",
    "# remove x, y axis\n",
    "ax.set_xlabel('')\n",
    "ax.set_ylabel('')\n",
    "\n",
    "# plt.savefig(save_path + 'ATAC1_RNA_PAGA.png', bbox_inches='tight', dpi=500)\n",
    "# plt.savefig(save_path + 'ATAC1_RNA_PAGA.eps', bbox_inches='tight', dpi=500)"
   ]
  },
  {
   "cell_type": "code",
   "execution_count": null,
   "metadata": {},
   "outputs": [],
   "source": [
    "## ATAC Modality\n",
    "plt.rcParams['font.size'] = 20\n",
    "plt.rcParams['font.sans-serif'] = 'Arial'\n",
    "fig, ax = plt.subplots(1,1, figsize=(6,6))\n",
    "colors = [\n",
    "    '#52b69a', '#e07a5f', '#597b84',  '#f4a259', '#e6db9e', '#98df8a', '#83c5be', '#d3edbe',\n",
    "    '#F19C79', '#a38161', '#d5a376', '#f9c74f', '#ffbb78'\n",
    "]\n",
    "\n",
    "sc.pl.embedding(adata_ATAC_analysis, basis='spatial', color='clusters_leiden', ax=ax, s=70, palette=colors, show=False)\n",
    "ax.set_title('ATAC analysis')\n",
    "# remove x, y axis\n",
    "ax.set_xlabel('')\n",
    "ax.set_ylabel('')\n",
    "# remove legend\n",
    "ax.get_legend().remove()\n",
    "\n",
    "# plt.savefig(save_path + 'ATAC1_ATAC.png', bbox_inches='tight', dpi=500)\n",
    "# plt.savefig(save_path + 'ATAC1_ATAC.eps', bbox_inches='tight', dpi=500)"
   ]
  },
  {
   "cell_type": "code",
   "execution_count": null,
   "metadata": {},
   "outputs": [],
   "source": [
    "## RNA UMAP\n",
    "fig, ax = plt.subplots(1,1, figsize=(6,6))\n",
    "sc.pl.umap(adata_ATAC_analysis, color='clusters_leiden', ax=ax,legend_loc='on data',legend_fontoutline=5, show=False)\n",
    "ax.set_title('UMAP visulization')\n",
    "# remove x, y axis\n",
    "ax.set_xlabel('')\n",
    "ax.set_ylabel('')\n",
    "\n",
    "# plt.savefig(save_path + 'ATAC1_ATAC_UMAP.png', bbox_inches='tight', dpi=500)\n",
    "# plt.savefig(save_path + 'ATAC1_ATAC_UMAP.eps', bbox_inches='tight', dpi=500)"
   ]
  },
  {
   "cell_type": "code",
   "execution_count": null,
   "metadata": {},
   "outputs": [],
   "source": [
    "# # RNA PAGA\n",
    "plt.rcParams['font.size'] = 20\n",
    "plt.rcParams['font.sans-serif'] = 'Arial'\n",
    "fig, ax = plt.subplots(1,1, figsize=(6,6))\n",
    "sc.tl.paga(adata_ATAC_analysis, groups='clusters_leiden')\n",
    "sc.pl.paga(adata_ATAC_analysis, edge_width_scale=2, node_size_scale=5, ax=ax, show=False, threshold=0.2, fontoutline=3)\n",
    "ax.set_title('PAGA graph')\n",
    "# remove x, y axis\n",
    "ax.set_xlabel('')\n",
    "ax.set_ylabel('')\n",
    "\n",
    "# plt.savefig(save_path + 'ATAC1_ATAC_PAGA.png', bbox_inches='tight', dpi=500)\n",
    "# plt.savefig(save_path + 'ATAC1_ATAC_PAGA.eps', bbox_inches='tight', dpi=500)"
   ]
  }
 ],
 "metadata": {
  "kernelspec": {
   "display_name": "base",
   "language": "python",
   "name": "python3"
  },
  "language_info": {
   "codemirror_mode": {
    "name": "ipython",
    "version": 3
   },
   "file_extension": ".py",
   "mimetype": "text/x-python",
   "name": "python",
   "nbconvert_exporter": "python",
   "pygments_lexer": "ipython3",
   "version": "3.11.5"
  }
 },
 "nbformat": 4,
 "nbformat_minor": 2
}
