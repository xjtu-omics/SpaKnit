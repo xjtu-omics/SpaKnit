{
 "cells": [
  {
   "cell_type": "markdown",
   "metadata": {},
   "source": [
    "# Single Modality Analysis of Mouse Spleen Dataset"
   ]
  },
  {
   "cell_type": "markdown",
   "metadata": {},
   "source": [
    "## Loading packages"
   ]
  },
  {
   "cell_type": "code",
   "execution_count": null,
   "metadata": {},
   "outputs": [],
   "source": [
    "import warnings\n",
    "warnings.filterwarnings('ignore')\n",
    "## Loading package\n",
    "import os\n",
    "\n",
    "import scanpy as sc\n",
    "import matplotlib.pyplot as plt\n",
    "\n",
    "# the location of R (used for the mclust clustering)\n",
    "os.environ['R_HOME'] = 'E:/R-4.3.1'\n",
    "os.environ['R_USER'] = 'E:/anaconda/lib/site-packages/rpy2'\n",
    "\n",
    "save_path = 'D:/study/learning/spatial_transcriptome/papers/spatial_multi_omics-main/Results/Visualization/Mouse_Spleen/' \n",
    "\n",
    "import sys\n",
    "sys.path.insert(0, 'D:/study/learning/spatial_transcriptome/papers/spatial_multi_omics-main/Model/')\n",
    "from preprocess import preprocessing\n",
    "from utils import mclust_R"
   ]
  },
  {
   "cell_type": "markdown",
   "metadata": {},
   "source": [
    "## Loading and Preprocessing data"
   ]
  },
  {
   "cell_type": "code",
   "execution_count": null,
   "metadata": {},
   "outputs": [
    {
     "name": "stdout",
     "output_type": "stream",
     "text": [
      "SPOTS data preprocessing have done!\n",
      "Dimensions after preprocessed adata_modal_1: (2568, 3000)\n",
      "Dimensions after preprocessing adata_modal_2: (2568, 21)\n",
      "SPOTS data preprocessing have done!\n",
      "Dimensions after preprocessed adata_modal_1: (2768, 3000)\n",
      "Dimensions after preprocessing adata_modal_2: (2768, 21)\n"
     ]
    }
   ],
   "source": [
    "file_fold_1 = 'D:/study/learning/spatial_transcriptome/papers/spatial_multi_omics-main/data/Mouse_Spleen_1/'\n",
    "file_fold_2 = 'D:/study/learning/spatial_transcriptome/papers/spatial_multi_omics-main/data/Mouse_Spleen_2/'\n",
    "\n",
    "adata_omics_1_1 = sc.read_h5ad(file_fold_1 + 'adata_RNA.h5ad')\n",
    "adata_omics_1_2 = sc.read_h5ad(file_fold_1 + 'adata_ADT.h5ad')\n",
    "\n",
    "adata_omics_2_1 = sc.read_h5ad(file_fold_2 + 'adata_RNA.h5ad')\n",
    "adata_omics_2_2 = sc.read_h5ad(file_fold_2 + 'adata_ADT.h5ad')\n",
    "\n",
    "adata_omics_1_1.var_names_make_unique()\n",
    "adata_omics_1_2.var_names_make_unique()\n",
    "adata_omics_2_1.var_names_make_unique()\n",
    "adata_omics_2_2.var_names_make_unique()\n",
    "\n",
    "adata_omics_1_1, adata_omics_1_2 = preprocessing(adata_omics_1_1, adata_omics_1_2, 'SPOTS')\n",
    "adata_omics_2_1, adata_omics_2_2 = preprocessing(adata_omics_2_1, adata_omics_2_2, 'SPOTS')"
   ]
  },
  {
   "cell_type": "code",
   "execution_count": null,
   "metadata": {},
   "outputs": [],
   "source": [
    "adata_RNA_analysis = adata_omics_2_1\n",
    "adata_Protein_analysis = adata_omics_2_2"
   ]
  },
  {
   "cell_type": "code",
   "execution_count": null,
   "metadata": {},
   "outputs": [
    {
     "name": "stdout",
     "output_type": "stream",
     "text": [
      "fitting ...\n",
      "  |======================================================================| 100%\n",
      "fitting ...\n",
      "  |======================================================================| 100%\n"
     ]
    },
    {
     "data": {
      "text/plain": [
       "AnnData object with n_obs × n_vars = 2768 × 21\n",
       "    obs: 'clusters_mclust'\n",
       "    var: 'mean', 'std'\n",
       "    uns: 'INR', 'pca', 'neighbors', 'umap'\n",
       "    obsm: 'spatial', 'X_pca', 'X_umap'\n",
       "    varm: 'PCs'\n",
       "    obsp: 'distances', 'connectivities'"
      ]
     },
     "execution_count": 20,
     "metadata": {},
     "output_type": "execute_result"
    }
   ],
   "source": [
    "## Running PCA on RNA modality\n",
    "sc.pp.pca(adata_RNA_analysis, n_comps=adata_Protein_analysis.shape[1]-1)\n",
    "sc.pp.neighbors(adata_RNA_analysis, use_rep='X_pca')\n",
    "sc.tl.umap(adata_RNA_analysis)\n",
    "mclust_R(adata_RNA_analysis, used_obsm='X_pca', num_cluster=6)\n",
    "\n",
    "## Running PCA on Protein modality\n",
    "sc.pp.pca(adata_Protein_analysis, n_comps=adata_Protein_analysis.shape[1]-1)\n",
    "sc.pp.neighbors(adata_Protein_analysis, use_rep='X_pca')\n",
    "sc.tl.umap(adata_Protein_analysis)\n",
    "mclust_R(adata_Protein_analysis, used_obsm='X_pca', num_cluster=6)"
   ]
  },
  {
   "cell_type": "markdown",
   "metadata": {},
   "source": [
    "## Storing the results"
   ]
  },
  {
   "cell_type": "code",
   "execution_count": 27,
   "metadata": {},
   "outputs": [
    {
     "data": {
      "text/plain": [
       "AnnData object with n_obs × n_vars = 2768 × 0\n",
       "    obs: 'SpaKnit', 'SpatialGlue', 'STAGATE', 'SpaGCN', 'Modality1', 'Modality2'\n",
       "    uns: 'SpaKnit_colors'\n",
       "    obsm: 'Modality1', 'Modality2', 'STAGATE', 'SpaKnit', 'SpatialGlue', 'spatial'"
      ]
     },
     "execution_count": 27,
     "metadata": {},
     "output_type": "execute_result"
    }
   ],
   "source": [
    "results = sc.read_h5ad('D:/study/learning/spatial_transcriptome/papers/spatial_multi_omics-main/Results/Mouse_Spleen_Replicate2.h5ad')\n",
    "results"
   ]
  },
  {
   "cell_type": "code",
   "execution_count": 22,
   "metadata": {},
   "outputs": [],
   "source": [
    "results.obs['Modality1'] = adata_RNA_analysis.obs['clusters_mclust'].values\n",
    "results.obsm['Modality1'] = adata_RNA_analysis.obsm['X_pca']\n",
    "results.obs['Modality2'] = adata_Protein_analysis.obs['clusters_mclust'].values\n",
    "results.obsm['Modality2'] = adata_Protein_analysis.obsm['X_pca']\n",
    "results.write_h5ad('D:/study/learning/spatial_transcriptome/papers/spatial_multi_omics-main/Results/Mouse_Spleen_Replicate2.h5ad')"
   ]
  },
  {
   "cell_type": "code",
   "execution_count": null,
   "metadata": {},
   "outputs": [],
   "source": [
    "colors = [\n",
    "    '#fdf0d5', '#f9c74f', '#83c5be', '#99582a', '#3f5e66', '#ee6055'\n",
    "]\n",
    "\n",
    "fig,ax = plt.subplots(nrows=1, ncols=1, figsize=(6, 6))\n",
    "sc.pl.embedding(adata_Protein_analysis, basis='spatial', color='clusters_mclust', ax=ax, s=180, show=False, palette=colors)\n",
    "ax.set_title(f'')\n",
    "ax.set_xlabel('')\n",
    "ax.set_ylabel('')\n",
    "# remove legend\n",
    "ax.get_legend().remove()\n",
    "for spine in ax.spines.values():\n",
    "    spine.set_visible(False)\n",
    "plt.tight_layout()"
   ]
  },
  {
   "cell_type": "code",
   "execution_count": null,
   "metadata": {},
   "outputs": [],
   "source": [
    "## RNA UMAP\n",
    "fig, ax = plt.subplots(1,1, figsize=(6,6))\n",
    "sc.pl.umap(adata_RNA_analysis, color='clusters_mclust', ax=ax,legend_loc='on data',legend_fontoutline=5, show=False)\n",
    "ax.set_title('UMAP visulization')\n",
    "# remove x, y axis\n",
    "ax.set_xlabel('')\n",
    "ax.set_ylabel('')\n",
    "# plt.savefig(save_path + 'Spleen2_RNA_UMAP.png', bbox_inches='tight', dpi=500)\n",
    "# plt.savefig(save_path + 'Spleen2_RNA_UMAP.eps', bbox_inches='tight', dpi=500)"
   ]
  },
  {
   "cell_type": "code",
   "execution_count": null,
   "metadata": {},
   "outputs": [],
   "source": [
    "# # RNA PAGA\n",
    "plt.rcParams['font.size'] = 20\n",
    "plt.rcParams['font.sans-serif'] = 'Arial'\n",
    "fig, ax = plt.subplots(1,1, figsize=(6,6))\n",
    "sc.tl.paga(adata_RNA_analysis, groups='clusters_mclust')\n",
    "sc.pl.paga(adata_RNA_analysis, edge_width_scale=1, node_size_scale=5, ax=ax, show=False, threshold=0.1, fontoutline=3)\n",
    "ax.set_title('PAGA graph')\n",
    "# remove x, y axis\n",
    "ax.set_xlabel('')\n",
    "ax.set_ylabel('')\n",
    "\n",
    "# plt.savefig(save_path + 'Spleen2_RNA_PAGA.png', bbox_inches='tight', dpi=500)\n",
    "# plt.savefig(save_path + 'Spleen2_RNA_PAGA.eps', bbox_inches='tight', dpi=500)"
   ]
  },
  {
   "cell_type": "code",
   "execution_count": null,
   "metadata": {},
   "outputs": [],
   "source": [
    "## Protein clustering\n",
    "plt.rcParams['font.size'] = 20\n",
    "plt.rcParams['font.sans-serif'] = 'Arial'\n",
    "fig, ax = plt.subplots(1,1, figsize=(6,6))\n",
    "\n",
    "colors_PCA_Protein = ['#8ac926', '#1982c4', '#6a4c93', '#ff595e', '#ffca3a']\n",
    "sc.pl.embedding(adata_Protein_analysis, basis='spatial', color='clusters_mclust', ax=ax, s=110, palette=colors_PCA_Protein, show=False)\n",
    "ax.set_title('Protein analysis')\n",
    "# remove x, y axis\n",
    "ax.set_xlabel('')\n",
    "ax.set_ylabel('')\n",
    "# remove legend\n",
    "ax.get_legend().remove()\n",
    "\n",
    "\n",
    "# plt.savefig(save_path + 'Spleen2_Protein.png', bbox_inches='tight', dpi=500)\n",
    "# plt.savefig(save_path + 'Spleen2_Protein.eps', bbox_inches='tight', dpi=500)"
   ]
  },
  {
   "cell_type": "code",
   "execution_count": null,
   "metadata": {},
   "outputs": [],
   "source": [
    "## Protein UMAP\n",
    "fig, ax = plt.subplots(1,1, figsize=(6,6))\n",
    "sc.pl.umap(adata_Protein_analysis, color='clusters_mclust', ax=ax,legend_loc='on data',legend_fontoutline=5, show=False)\n",
    "ax.set_title('UMAP visulization')\n",
    "# remove x, y axis\n",
    "ax.set_xlabel('')\n",
    "ax.set_ylabel('')\n",
    "plt.savefig(save_path + 'Spleen2_Protein_UMAP.png', bbox_inches='tight', dpi=500)\n",
    "plt.savefig(save_path + 'Spleen2_Protein_UMAP.eps', bbox_inches='tight', dpi=500)"
   ]
  },
  {
   "cell_type": "code",
   "execution_count": null,
   "metadata": {},
   "outputs": [],
   "source": [
    "# # Protein PAGA\n",
    "plt.rcParams['font.size'] = 20\n",
    "plt.rcParams['font.sans-serif'] = 'Arial'\n",
    "fig, ax = plt.subplots(1,1, figsize=(6,6))\n",
    "sc.tl.paga(adata_Protein_analysis, groups='clusters_mclust')\n",
    "sc.pl.paga(adata_Protein_analysis, edge_width_scale=1, node_size_scale=5, ax=ax, show=False, threshold=0.1, fontoutline=3)\n",
    "ax.set_title('PAGA graph')\n",
    "# remove x, y axis\n",
    "ax.set_xlabel('')\n",
    "ax.set_ylabel('')\n",
    "\n",
    "plt.savefig(save_path + 'Spleen2_Protein_PAGA.png', bbox_inches='tight', dpi=500)\n",
    "plt.savefig(save_path + 'Spleen2_Protein_PAGA.eps', bbox_inches='tight', dpi=500)"
   ]
  },
  {
   "cell_type": "code",
   "execution_count": null,
   "metadata": {},
   "outputs": [],
   "source": [
    "## sc.tl.rank_genes_groups：Genes are ranked to determine population characteristics\n",
    "sc.tl.rank_genes_groups(adata_RNA_analysis, 'clusters_mclust', method=\"t-test\")\n",
    "rank_genes = sc.get.rank_genes_groups_df(adata_RNA_analysis, group=None)\n",
    "rank_genes.to_excel(save_path + 'marker_genes.xlsx', index=True)"
   ]
  },
  {
   "cell_type": "code",
   "execution_count": null,
   "metadata": {},
   "outputs": [],
   "source": [
    "plt.rcParams['font.size'] = 18\n",
    "plt.rcParams['font.sans-serif'] = 'Arial'\n",
    "fig, ax = plt.subplots(1,5, figsize=(20,4))\n",
    "fig.subplots_adjust(wspace=0.1, hspace=0)\n",
    "\n",
    "marker_genes = ['Hba-a2', 'mt-Co2', 'Hba-a2', 'mt-Co2', 'Marco']\n",
    "components_range = range(5)\n",
    "for i in components_range:\n",
    "    sc.pl.embedding(adata_RNA_analysis, basis='spatial', color=marker_genes[i], ax=ax[i], title=marker_genes[i], s=50, colorbar_loc=None, show=False, cmap='coolwarm')\n",
    "    # remove x, y axis\n",
    "    ax[i].set_xlabel('')\n",
    "    ax[i].set_ylabel('')\n",
    "# plt.savefig(save_path + 'Spleen2_Marker.png', bbox_inches='tight', dpi=500)\n",
    "# plt.savefig(save_path + 'Spleen2_Marker.eps', bbox_inches='tight', dpi=500)\n",
    "plt.show()"
   ]
  },
  {
   "cell_type": "code",
   "execution_count": null,
   "metadata": {},
   "outputs": [],
   "source": [
    "plt.rcParams['font.size'] = 16\n",
    "plt.rcParams['font.sans-serif'] = 'Arial'\n",
    "fig, ax = plt.subplots(1,1, figsize=(10,8))\n",
    "ax = sc.pl.stacked_violin(adata_RNA_analysis, marker_genes, groupby='clusters_mclust', figsize=(15,8), ax=ax,dendrogram=True, show=False)\n",
    "# plt.savefig(save_path + 'spleen2_Marker_violin.png', bbox_inches='tight', dpi=500)\n",
    "# plt.savefig(save_path + 'spleen2_Marker_violin.eps', bbox_inches='tight', dpi=500)\n",
    "plt.show()"
   ]
  }
 ],
 "metadata": {
  "kernelspec": {
   "display_name": "base",
   "language": "python",
   "name": "python3"
  },
  "language_info": {
   "codemirror_mode": {
    "name": "ipython",
    "version": 3
   },
   "file_extension": ".py",
   "mimetype": "text/x-python",
   "name": "python",
   "nbconvert_exporter": "python",
   "pygments_lexer": "ipython3",
   "version": "3.11.5"
  }
 },
 "nbformat": 4,
 "nbformat_minor": 2
}
