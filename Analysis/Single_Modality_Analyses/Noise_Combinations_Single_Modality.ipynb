{
 "cells": [
  {
   "cell_type": "markdown",
   "metadata": {},
   "source": [
    "# Single Modality Analysis of Simulated Dataset 2 (Different Noise Levels and Combinations)"
   ]
  },
  {
   "cell_type": "code",
   "execution_count": 1,
   "metadata": {},
   "outputs": [],
   "source": [
    "results_RNA = []\n",
    "results_Protein = []\n",
    "embedding_RNA = []\n",
    "embedding_Protein = []"
   ]
  },
  {
   "cell_type": "markdown",
   "metadata": {},
   "source": [
    "## Loading Packages"
   ]
  },
  {
   "cell_type": "code",
   "execution_count": null,
   "metadata": {},
   "outputs": [],
   "source": [
    "import warnings\n",
    "warnings.filterwarnings('ignore')\n",
    "import pandas as pd\n",
    "import scanpy as sc\n",
    "import numpy as np\n",
    "from sklearn.metrics.cluster import adjusted_rand_score\n",
    "\n",
    "import anndata as ad\n",
    "import os\n",
    "import numpy as np\n",
    "\n",
    "os.environ['R_HOME'] = 'E:/R-4.3.1'\n",
    "os.environ['R_USER'] = 'E:/anaconda/lib/site-packages/rpy2'\n",
    "\n",
    "import sys\n",
    "sys.path.append(r'D:/study/learning/spatial_transcriptome/papers/spatial_multi_omics-main')\n",
    "from Model.utils import expand_anndata, mclust_R"
   ]
  },
  {
   "cell_type": "markdown",
   "metadata": {},
   "source": [
    "## Loading Data"
   ]
  },
  {
   "cell_type": "code",
   "execution_count": null,
   "metadata": {},
   "outputs": [],
   "source": [
    "replicate = 4\n",
    "file_fold_1 = f'D:/study/learning/spatial_transcriptome/papers/spatial_multi_omics-main/data/Noise_Combination_{replicate}/Combination{replicate}_RNA'\n",
    "file_fold_2 = f'D:/study/learning/spatial_transcriptome/papers/spatial_multi_omics-main/data/Noise_Combination_{replicate}/Combination{replicate}_Protein'\n",
    "\n",
    "adata_omics_1 = sc.read_h5ad(file_fold_1 + '.h5ad')\n",
    "adata_omics_2 = sc.read_h5ad(file_fold_2 + '.h5ad')\n",
    "\n",
    "adata_omics_1 = expand_anndata(adata_omics_1, used_rep = 'obsm')\n",
    "adata_omics_2 = expand_anndata(adata_omics_2, used_rep = 'obsm')\n",
    "\n",
    "noise_level = 3\n",
    "adata_omics_1 = adata_omics_1[adata_omics_1.obs['noise_level']==noise_level]\n",
    "adata_omics_2 = adata_omics_2[adata_omics_2.obs['noise_level']==noise_level]\n",
    "\n",
    "sc.tl.pca(adata_omics_1)\n",
    "sc.tl.pca(adata_omics_2)\n",
    "\n",
    "adata_RNA = adata_omics_1\n",
    "adata_Protein = adata_omics_2"
   ]
  },
  {
   "cell_type": "markdown",
   "metadata": {},
   "source": [
    "## Single Modality Clustering"
   ]
  },
  {
   "cell_type": "code",
   "execution_count": 10,
   "metadata": {},
   "outputs": [
    {
     "name": "stdout",
     "output_type": "stream",
     "text": [
      "fitting ...\n",
      "  |======================================================================| 100%\n",
      "fitting ...\n",
      "  |======================================================================| 100%\n",
      "(4800, 50)\n",
      "(4800, 30)\n"
     ]
    }
   ],
   "source": [
    "mclust_R(adata_RNA, used_obsm='X_pca', num_cluster=4)\n",
    "mclust_R(adata_Protein, used_obsm='X_pca', num_cluster=4)\n",
    "\n",
    "results_RNA.extend(adata_RNA.obs['clusters_mclust'])\n",
    "results_Protein.extend(adata_Protein.obs['clusters_mclust'])\n",
    "\n",
    "embedding_RNA.extend(adata_RNA.obsm['X_pca'])\n",
    "embedding_Protein.extend(adata_Protein.obsm['X_pca'])\n",
    "\n",
    "print(np.shape(embedding_RNA))\n",
    "print(np.shape(embedding_Protein))"
   ]
  },
  {
   "cell_type": "markdown",
   "metadata": {},
   "source": [
    "## Storing the Results"
   ]
  },
  {
   "cell_type": "code",
   "execution_count": 4,
   "metadata": {},
   "outputs": [
    {
     "data": {
      "text/plain": [
       "AnnData object with n_obs × n_vars = 4800 × 0\n",
       "    obs: 'Ground Truth', 'noise_level', 'SpaGCN', 'SpatialGlue', 'MultiMAP', 'STAGATE', 'Modality1', 'Modality2', 'SpaKnit', 'MultiVI'\n",
       "    obsm: 'Modality1', 'Modality2', 'MultiMAP', 'MultiVI', 'STAGATE', 'SpaKnit', 'SpatialGlue', 'spatial'"
      ]
     },
     "execution_count": 4,
     "metadata": {},
     "output_type": "execute_result"
    }
   ],
   "source": [
    "results_all = sc.read_h5ad(f'D:/study/learning/spatial_transcriptome/papers/spatial_multi_omics-main/Results/Noise_Combination_{replicate}.h5ad')\n",
    "results_all"
   ]
  },
  {
   "cell_type": "code",
   "execution_count": 11,
   "metadata": {},
   "outputs": [],
   "source": [
    "results_all.obs['Modality1'] = results_RNA\n",
    "results_all.obs['Modality2'] = results_Protein\n",
    "\n",
    "results_all.obsm['Modality1'] = np.array(embedding_RNA)\n",
    "results_all.obsm['Modality2'] = np.array(embedding_Protein)"
   ]
  },
  {
   "cell_type": "code",
   "execution_count": 12,
   "metadata": {},
   "outputs": [
    {
     "data": {
      "text/plain": [
       "{0: 0.2277916601230629,\n",
       " 1: 0.19186152688322164,\n",
       " 2: 0.14692914897993037,\n",
       " 3: 0.1220728669573271}"
      ]
     },
     "execution_count": 12,
     "metadata": {},
     "output_type": "execute_result"
    }
   ],
   "source": [
    "ari_scores = {}\n",
    "obs_df = results_all.obs\n",
    "for noise_level in obs_df['noise_level'].unique():\n",
    "    # 选择当前 noise_level 的数据\n",
    "    subset_df = obs_df[obs_df['noise_level'] == noise_level]\n",
    "    \n",
    "    # 计算 ARI\n",
    "    ari = adjusted_rand_score(subset_df['Modality2'], subset_df['Ground Truth'])\n",
    "    \n",
    "    # 存储 ARI 分数\n",
    "    ari_scores[noise_level] = ari\n",
    "ari_scores"
   ]
  },
  {
   "cell_type": "code",
   "execution_count": 13,
   "metadata": {},
   "outputs": [],
   "source": [
    "results_all.write_h5ad(f'D:/study/learning/spatial_transcriptome/papers/spatial_multi_omics-main/Results/Noise_Combination_{replicate}.h5ad')"
   ]
  }
 ],
 "metadata": {
  "kernelspec": {
   "display_name": "base",
   "language": "python",
   "name": "python3"
  },
  "language_info": {
   "codemirror_mode": {
    "name": "ipython",
    "version": 3
   },
   "file_extension": ".py",
   "mimetype": "text/x-python",
   "name": "python",
   "nbconvert_exporter": "python",
   "pygments_lexer": "ipython3",
   "version": "3.11.5"
  }
 },
 "nbformat": 4,
 "nbformat_minor": 2
}
