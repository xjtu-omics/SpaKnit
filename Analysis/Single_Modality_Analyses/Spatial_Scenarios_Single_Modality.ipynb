{
 "cells": [
  {
   "cell_type": "markdown",
   "metadata": {},
   "source": [
    "# Single Modality Analysis of Simulated Dataset 1 (Spatial Patterns of Varying Complexity)"
   ]
  },
  {
   "cell_type": "markdown",
   "metadata": {},
   "source": [
    "## Loading packages"
   ]
  },
  {
   "cell_type": "code",
   "execution_count": null,
   "metadata": {},
   "outputs": [],
   "source": [
    "import warnings\n",
    "warnings.filterwarnings('ignore')\n",
    "import scanpy as sc\n",
    "from sklearn.metrics.cluster import adjusted_rand_score\n",
    "import anndata as ad\n",
    "import os\n",
    "os.environ['R_HOME'] = 'E:/R-4.3.1'\n",
    "os.environ['R_USER'] = 'E:/anaconda/lib/site-packages/rpy2'\n",
    "\n",
    "import sys\n",
    "sys.path.append(r'D:/study/learning/spatial_transcriptome/papers/spatial_multi_omics-main')\n",
    "from Model.utils import mclust_R"
   ]
  },
  {
   "cell_type": "markdown",
   "metadata": {},
   "source": [
    "## Loading Data"
   ]
  },
  {
   "cell_type": "code",
   "execution_count": null,
   "metadata": {},
   "outputs": [],
   "source": [
    "file_fold_1 = 'D:/study/learning/spatial_transcriptome/papers/spatial_multi_omics-main/data/Spatial_Scenario_4/simulation4_RNA'\n",
    "file_fold_2 = 'D:/study/learning/spatial_transcriptome/papers/spatial_multi_omics-main/data/Spatial_Scenario_4/simulation4_Protein'\n",
    "\n",
    "adata_omics_1 = sc.read_h5ad(file_fold_1 + '.h5ad')\n",
    "adata_omics_2 = sc.read_h5ad(file_fold_2 + '.h5ad')\n",
    "\n",
    "sc.tl.pca(adata_omics_1)\n",
    "sc.tl.pca(adata_omics_2)\n",
    "\n",
    "batch = 3\n",
    "adata_analysis_1 = adata_omics_1[adata_omics_1.obs['batch'] == batch]\n",
    "adata_analysis_2 = adata_omics_2[adata_omics_2.obs['batch'] == batch]"
   ]
  },
  {
   "cell_type": "markdown",
   "metadata": {},
   "source": [
    "## Single Modality Clustering"
   ]
  },
  {
   "cell_type": "code",
   "execution_count": 8,
   "metadata": {},
   "outputs": [
    {
     "name": "stdout",
     "output_type": "stream",
     "text": [
      "fitting ...\n",
      "  |======================================================================| 100%\n",
      "fitting ...\n",
      "  |======================================================================| 100%\n"
     ]
    },
    {
     "data": {
      "text/plain": [
       "AnnData object with n_obs × n_vars = 400 × 31\n",
       "    obs: 'Ground Truth', 'batch', 'clusters_mclust'\n",
       "    var: 'gene_ids', 'feature_types', 'genome', 'mean', 'std'\n",
       "    uns: 'pca'\n",
       "    obsm: 'spatial', 'X_pca'\n",
       "    varm: 'PCs'"
      ]
     },
     "execution_count": 8,
     "metadata": {},
     "output_type": "execute_result"
    }
   ],
   "source": [
    "mclust_R(adata_analysis_1, used_obsm='X_pca', num_cluster=4)\n",
    "mclust_R(adata_analysis_2, used_obsm='X_pca', num_cluster=4)"
   ]
  },
  {
   "cell_type": "code",
   "execution_count": 3,
   "metadata": {},
   "outputs": [],
   "source": [
    "adata_result_1_1 = adata_analysis_1\n",
    "adata_result_1_2 = adata_analysis_2"
   ]
  },
  {
   "cell_type": "code",
   "execution_count": 6,
   "metadata": {},
   "outputs": [],
   "source": [
    "adata_result_2_1 = adata_analysis_1\n",
    "adata_result_2_2 = adata_analysis_2"
   ]
  },
  {
   "cell_type": "code",
   "execution_count": 9,
   "metadata": {},
   "outputs": [],
   "source": [
    "adata_result_3_1 = adata_analysis_1\n",
    "adata_result_3_2 = adata_analysis_2"
   ]
  },
  {
   "cell_type": "code",
   "execution_count": 10,
   "metadata": {},
   "outputs": [],
   "source": [
    "adata_results_1 = adata_result_1_1.concatenate(adata_result_2_1, adata_result_3_1, batch_key='batch')\n",
    "adata_results_1.obs.rename(columns={'clusters_mclust': 'Modality1'}, inplace=True)\n",
    "adata_results_1.obsm['Modality1'] = adata_results_1.obsm.pop('X_pca')\n",
    "\n",
    "adata_results_2 = adata_result_1_2.concatenate(adata_result_2_2, adata_result_3_2, batch_key='batch')\n",
    "adata_results_2.obs.rename(columns={'clusters_mclust': 'Modality2'}, inplace=True)\n",
    "adata_results_2.obsm['Modality2'] = adata_results_2.obsm.pop('X_pca')"
   ]
  },
  {
   "cell_type": "markdown",
   "metadata": {},
   "source": [
    "## Storing the Results"
   ]
  },
  {
   "cell_type": "code",
   "execution_count": 13,
   "metadata": {},
   "outputs": [
    {
     "data": {
      "text/plain": [
       "AnnData object with n_obs × n_vars = 1200 × 3031\n",
       "    obs: 'Ground Truth', 'batch', 'SpaGCN', 'SpatialGlue', 'STAGATE', 'MultiMAP', 'MultiVI', 'Modality1', 'Modality2'\n",
       "    obsm: 'Modality1', 'Modality2', 'MultiMAP', 'MultiVI', 'STAGATE', 'SpatialGlue', 'spatial'"
      ]
     },
     "execution_count": 13,
     "metadata": {},
     "output_type": "execute_result"
    }
   ],
   "source": [
    "results = sc.read_h5ad('D:/study/learning/spatial_transcriptome/papers/spatial_multi_omics-main/Results/Spatial_Scenario_4.h5ad')\n",
    "results"
   ]
  },
  {
   "cell_type": "code",
   "execution_count": 12,
   "metadata": {},
   "outputs": [],
   "source": [
    "results.obs['Modality1'] = adata_results_1.obs['Modality1'].values\n",
    "results.obsm['Modality1'] = adata_results_1.obsm['Modality1']\n",
    "results.obs['Modality2'] = adata_results_2.obs['Modality2'].values\n",
    "results.obsm['Modality2'] = adata_results_2.obsm['Modality2']\n",
    "results.write_h5ad('D:/study/learning/spatial_transcriptome/papers/spatial_multi_omics-main/Results/Spatial_Scenario_4.h5ad')"
   ]
  }
 ],
 "metadata": {
  "kernelspec": {
   "display_name": "base",
   "language": "python",
   "name": "python3"
  },
  "language_info": {
   "codemirror_mode": {
    "name": "ipython",
    "version": 3
   },
   "file_extension": ".py",
   "mimetype": "text/x-python",
   "name": "python",
   "nbconvert_exporter": "python",
   "pygments_lexer": "ipython3",
   "version": "3.11.5"
  }
 },
 "nbformat": 4,
 "nbformat_minor": 2
}
