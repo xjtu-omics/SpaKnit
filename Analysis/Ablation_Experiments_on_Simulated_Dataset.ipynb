{
 "cells": [
  {
   "cell_type": "markdown",
   "metadata": {},
   "source": [
    "# Ablation Experiments on Simulated Dataset"
   ]
  },
  {
   "cell_type": "markdown",
   "metadata": {},
   "source": [
    "## Loading packages"
   ]
  },
  {
   "cell_type": "code",
   "execution_count": null,
   "metadata": {},
   "outputs": [],
   "source": [
    "import warnings\n",
    "warnings.filterwarnings('ignore')\n",
    "\n",
    "import pandas as pd\n",
    "import scanpy as sc\n",
    "import numpy as np\n",
    "from sklearn.metrics.cluster import adjusted_rand_score\n",
    "import anndata as ad\n",
    "import os\n",
    "import numpy as np\n",
    "import matplotlib.pyplot as plt\n",
    "\n",
    "os.environ['R_HOME'] = 'E:/R-4.3.1'\n",
    "os.environ['R_USER'] = 'E:/anaconda/lib/site-packages/rpy2'\n",
    "import sys\n",
    "sys.path.append(r'D:/study/learning\\spatial_transcriptome/papers\\spatial_multi_omics-main')\n",
    "from Model.utils import mclust_R\n",
    "from Model.model import DCCAE\n",
    "from Model.preprocess import fix_seed\n",
    "fix_seed(2024)"
   ]
  },
  {
   "cell_type": "markdown",
   "metadata": {},
   "source": [
    "## Loading data\n",
    "We use four replicates of the simulated dataset 1 to conduct ablation experiments."
   ]
  },
  {
   "cell_type": "code",
   "execution_count": null,
   "metadata": {},
   "outputs": [],
   "source": [
    "replicate = 1\n",
    "file_fold_1 = f'D:/study/learning/spatial_transcriptome/papers/spatial_multi_omics-main/data/Spatial_Scenario_{replicate}/simulation{replicate}_RNA'\n",
    "file_fold_2 = f'D:/study/learning/spatial_transcriptome/papers/spatial_multi_omics-main/data/Spatial_Scenario_{replicate}/simulation{replicate}_Protein'\n",
    "\n",
    "adata_omics_1 = sc.read_h5ad(file_fold_1 + '.h5ad')\n",
    "adata_omics_2 = sc.read_h5ad(file_fold_2 + '.h5ad')\n",
    "\n",
    "adata_omics_1.X = adata_omics_1.uns['INR']\n",
    "adata_omics_2.X = adata_omics_2.uns['INR']\n",
    "\n",
    "batch = 1\n",
    "adata_RNA = adata_omics_1[adata_omics_1.obs['batch'] == batch]\n",
    "adata_ADT = adata_omics_2[adata_omics_2.obs['batch'] == batch]\n",
    "\n",
    "sc.tl.pca(adata_RNA, use_highly_variable=False)\n",
    "sc.tl.pca(adata_ADT, use_highly_variable=False)"
   ]
  },
  {
   "cell_type": "markdown",
   "metadata": {},
   "source": [
    "## Running SpaKnit\n",
    "\n",
    "To assess the contribution of each module in SpaKnit, we construct ablation experiments using simulated dataset across four spatial patterns. We compare the performance of the complete SpaKnit framework with modified versions where specific components were removed: \n",
    "- SpaKnit without INR to evaluate the impact of removing the INR module, which models spatial continuity; \n",
    "- SpaKnit without DCCAE to examine the effect of excluding DCCAE, responsible for learning cross-modal correlations; \n",
    "- SpaKnit without CCA Loss to test the importance of CCA in optimizing cross-modal alignment; \n",
    "- SpaKnit without Reconstruction Loss to investigate the necessity of reconstruction loss in preserving modality-specific structures. "
   ]
  },
  {
   "cell_type": "code",
   "execution_count": null,
   "metadata": {},
   "outputs": [
    {
     "name": "stderr",
     "output_type": "stream",
     "text": [
      "Training Progress:   0%|          | 0/300 [00:00<?, ?it/s]"
     ]
    },
    {
     "name": "stderr",
     "output_type": "stream",
     "text": [
      "Training Progress: 100%|██████████| 300/300 [00:09<00:00, 32.40it/s]"
     ]
    },
    {
     "name": "stdout",
     "output_type": "stream",
     "text": [
      "model training finished!\n",
      "fitting ...\n",
      "  |======================================================================| 100%\n",
      "n=4, DCCA_X, ARI = 0.9423137333367312\n",
      "fitting ...\n",
      "  |                                                                            "
     ]
    },
    {
     "name": "stderr",
     "output_type": "stream",
     "text": [
      "\n"
     ]
    },
    {
     "name": "stdout",
     "output_type": "stream",
     "text": [
      "  |======================================================================| 100%\n",
      "n=4, DCCA_Y, ARI = 0.8846294170335701\n",
      "fitting ...\n",
      "  |======================================================================| 100%\n",
      "n=4, DCCA, ARI = 0.973675813012235\n"
     ]
    }
   ],
   "source": [
    "n_DCCA = 10\n",
    "\n",
    "features1 = adata_RNA.obsm['X_pca'].shape[1]  # Feature sizes\n",
    "features2 = adata_ADT.obsm['X_pca'].shape[1]\n",
    "layers1 = [256, 256, n_DCCA]  # nodes in each hidden layer and the output size\n",
    "layers2 = [256, 256, n_DCCA]\n",
    "X = adata_RNA.obsm['X_pca'].copy()\n",
    "Y = adata_ADT.obsm['X_pca'].copy()\n",
    "\n",
    "use_rep = ['DCCA_X', \"DCCA_Y\", \"DCCA\"]\n",
    "\n",
    "epochs = 300\n",
    "dcca = DCCAE(input_size1=features1, input_size2=features2, n_components=n_DCCA, layer_sizes1=layers1, layer_sizes2=layers2, epoch_num=epochs, learning_rate=0.001)\n",
    "dcca.fit([X, Y])\n",
    "Xs_transformed = dcca.transform([X, Y])\n",
    "adata_RNA.obsm[\"DCCA_X\"] =  Xs_transformed[0]\n",
    "adata_ADT.obsm[\"DCCA_Y\"] =  Xs_transformed[1]\n",
    "adata_RNA.obsm[\"DCCA\"] = np.concatenate((adata_RNA.obsm[\"DCCA_X\"], adata_ADT.obsm[\"DCCA_Y\"]),axis=1)\n",
    "\n",
    "use_rep = ['DCCA_X','DCCA_Y', 'DCCA']\n",
    "n = 4\n",
    "mclust_R(adata_RNA, used_obsm=use_rep[0], num_cluster=n)\n",
    "obs_df = adata_RNA.obs.dropna()\n",
    "ARI_1 = adjusted_rand_score(obs_df['clusters_mclust'], obs_df['Ground Truth'])\n",
    "print(f'n={n}, DCCA_X, ARI = {ARI_1}')\n",
    "    \n",
    "mclust_R(adata_ADT, used_obsm=use_rep[1], num_cluster=n)\n",
    "obs_df = adata_ADT.obs.dropna()\n",
    "ARI_2 = adjusted_rand_score(obs_df['clusters_mclust'], obs_df['Ground Truth'])\n",
    "print(f'n={n}, DCCA_Y, ARI = {ARI_2}')\n",
    "\n",
    "mclust_R(adata_RNA, used_obsm=use_rep[2], num_cluster=n)\n",
    "obs_df = adata_RNA.obs.dropna()\n",
    "ARI_3 = adjusted_rand_score(obs_df['clusters_mclust'], obs_df['Ground Truth'])\n",
    "print(f'n={n}, DCCA, ARI = {ARI_3}')"
   ]
  },
  {
   "cell_type": "markdown",
   "metadata": {},
   "source": [
    "## Storing results"
   ]
  },
  {
   "cell_type": "code",
   "execution_count": null,
   "metadata": {},
   "outputs": [],
   "source": [
    "adata_result = sc.read_h5ad(f'./Results/sensitivity analysis and ablation experiment/Spatial_Scenario/Ablation_Experiment/result{replicate}.h5ad')"
   ]
  },
  {
   "cell_type": "code",
   "execution_count": 24,
   "metadata": {},
   "outputs": [],
   "source": [
    "name = ['without_INR', 'without_DCCAE', 'without_CCA_loss', 'without_rec_loss', 'without_liear_CCA_layer']\n",
    "adata_result.obs[name[3]] = adata_RNA.obs['clusters_mclust'].values\n",
    "adata_result.obsm[name[3]] = adata_RNA.obsm['DCCA']\n",
    "# adata_result.obsm['spatial'] = adata_RNA.obsm['spatial']"
   ]
  },
  {
   "cell_type": "code",
   "execution_count": null,
   "metadata": {},
   "outputs": [],
   "source": [
    "adata_result.write_h5ad(f'./Results/sensitivity analysis and ablation experiment/Spatial_Scenario/Ablation_Experiment/result{replicate}.h5ad')"
   ]
  }
 ],
 "metadata": {
  "kernelspec": {
   "display_name": "base",
   "language": "python",
   "name": "python3"
  },
  "language_info": {
   "codemirror_mode": {
    "name": "ipython",
    "version": 3
   },
   "file_extension": ".py",
   "mimetype": "text/x-python",
   "name": "python",
   "nbconvert_exporter": "python",
   "pygments_lexer": "ipython3",
   "version": "3.11.5"
  }
 },
 "nbformat": 4,
 "nbformat_minor": 2
}
