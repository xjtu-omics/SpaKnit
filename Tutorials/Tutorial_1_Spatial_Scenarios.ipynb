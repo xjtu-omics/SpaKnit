{
 "cells": [
  {
   "cell_type": "code",
   "execution_count": 1,
   "metadata": {},
   "outputs": [],
   "source": [
    "import warnings\n",
    "warnings.filterwarnings('ignore')\n",
    "\n",
    "import pandas as pd\n",
    "import scanpy as sc\n",
    "import numpy as np\n",
    "from sklearn.metrics.cluster import adjusted_rand_score\n",
    "import anndata as ad\n",
    "import os\n",
    "import numpy as np\n",
    "import matplotlib.pyplot as plt\n",
    "\n",
    "os.environ['R_HOME'] = 'E:/R-4.3.1'\n",
    "os.environ['R_USER'] = 'E:/anaconda/lib/site-packages/rpy2'\n",
    "import sys\n",
    "sys.path.append(r'D:/study/learning\\spatial_transcriptome/papers\\spatial_multi_omics-main')\n",
    "from Model.utils import mclust_R\n",
    "from Model.model import DCCAE\n",
    "from Model.preprocess import fix_seed\n",
    "fix_seed(2024)\n",
    "\n",
    "replicate = 1\n",
    "file_fold_1 = f'D:/study/learning/spatial_transcriptome/papers/spatial_multi_omics-main/data/Spatial_Scenario_{replicate}/simulation{replicate}_RNA'\n",
    "file_fold_2 = f'D:/study/learning/spatial_transcriptome/papers/spatial_multi_omics-main/data/Spatial_Scenario_{replicate}/simulation{replicate}_Protein'\n",
    "\n",
    "adata_omics_1 = sc.read_h5ad(file_fold_1 + '.h5ad')\n",
    "adata_omics_2 = sc.read_h5ad(file_fold_2 + '.h5ad')\n",
    "\n",
    "adata_omics_1.X = adata_omics_1.uns['INR']\n",
    "adata_omics_2.X = adata_omics_2.uns['INR']\n",
    "\n",
    "batch = 2\n",
    "adata_RNA = adata_omics_1[adata_omics_1.obs['batch'] == batch]\n",
    "adata_ADT = adata_omics_2[adata_omics_2.obs['batch'] == batch]\n",
    "\n",
    "sc.tl.pca(adata_RNA, use_highly_variable=False)\n",
    "sc.tl.pca(adata_ADT, use_highly_variable=False)"
   ]
  },
  {
   "cell_type": "code",
   "execution_count": 9,
   "metadata": {},
   "outputs": [
    {
     "name": "stderr",
     "output_type": "stream",
     "text": [
      "Training Progress: 100%|██████████| 300/300 [00:08<00:00, 33.38it/s]"
     ]
    },
    {
     "name": "stdout",
     "output_type": "stream",
     "text": [
      "model training finished!\n",
      "fitting ...\n",
      "  |                                                                            "
     ]
    },
    {
     "name": "stderr",
     "output_type": "stream",
     "text": [
      "\n"
     ]
    },
    {
     "name": "stdout",
     "output_type": "stream",
     "text": [
      "  |======================================================================| 100%\n",
      "n=4, DCCA_X, ARI = 1.0\n",
      "fitting ...\n",
      "  |======================================================================| 100%\n",
      "n=4, DCCA_Y, ARI = 0.9666599600683922\n",
      "fitting ...\n",
      "  |======================================================================| 100%\n",
      "n=4, DCCA, ARI = 1.0\n"
     ]
    }
   ],
   "source": [
    "# bandwidth=0.02, n_DCCA = 10, epochs = 300\n",
    "n_DCCA = 10\n",
    "\n",
    "features1 = adata_RNA.obsm['X_pca'].shape[1]  # Feature sizes\n",
    "features2 = adata_ADT.obsm['X_pca'].shape[1]\n",
    "layers1 = [256, 256, n_DCCA]  # nodes in each hidden layer and the output size\n",
    "layers2 = [256, 256, n_DCCA]\n",
    "X = adata_RNA.obsm['X_pca'].copy()\n",
    "Y = adata_ADT.obsm['X_pca'].copy()\n",
    "\n",
    "use_rep = ['DCCA_X', \"DCCA_Y\", \"DCCA\"]\n",
    "\n",
    "epochs = 300\n",
    "dcca = DCCAE(input_size1=features1, input_size2=features2, n_components=n_DCCA, layer_sizes1=layers1, layer_sizes2=layers2, epoch_num=epochs, learning_rate=0.001)\n",
    "dcca.fit([X, Y])\n",
    "Xs_transformed = dcca.transform([X, Y])\n",
    "adata_RNA.obsm[\"DCCA_X\"] =  Xs_transformed[0]\n",
    "adata_ADT.obsm[\"DCCA_Y\"] =  Xs_transformed[1]\n",
    "adata_RNA.obsm[\"DCCA\"] = np.concatenate((adata_RNA.obsm[\"DCCA_X\"], adata_ADT.obsm[\"DCCA_Y\"]),axis=1)\n",
    "\n",
    "use_rep = ['DCCA_X','DCCA_Y', 'DCCA']\n",
    "n = 4\n",
    "mclust_R(adata_RNA, used_obsm=use_rep[0], num_cluster=n)\n",
    "obs_df = adata_RNA.obs.dropna()\n",
    "ARI_1 = adjusted_rand_score(obs_df['clusters_mclust'], obs_df['Ground Truth'])\n",
    "print(f'n={n}, DCCA_X, ARI = {ARI_1}')\n",
    "    \n",
    "mclust_R(adata_ADT, used_obsm=use_rep[1], num_cluster=n)\n",
    "obs_df = adata_ADT.obs.dropna()\n",
    "ARI_2 = adjusted_rand_score(obs_df['clusters_mclust'], obs_df['Ground Truth'])\n",
    "print(f'n={n}, DCCA_Y, ARI = {ARI_2}')\n",
    "\n",
    "mclust_R(adata_RNA, used_obsm=use_rep[2], num_cluster=n)\n",
    "obs_df = adata_RNA.obs.dropna()\n",
    "ARI_3 = adjusted_rand_score(obs_df['clusters_mclust'], obs_df['Ground Truth'])\n",
    "print(f'n={n}, DCCA, ARI = {ARI_3}')"
   ]
  },
  {
   "cell_type": "code",
   "execution_count": 3,
   "metadata": {},
   "outputs": [],
   "source": [
    "adata_1 = ad.AnnData(obs=adata_RNA.obs[['clusters_mclust', 'batch']], obsm={'SpaKnit': adata_RNA.obsm['DCCA']})"
   ]
  },
  {
   "cell_type": "code",
   "execution_count": 6,
   "metadata": {},
   "outputs": [],
   "source": [
    "adata_2 = ad.AnnData(obs=adata_RNA.obs[['clusters_mclust', 'batch']], obsm={'SpaKnit': adata_RNA.obsm['DCCA']})"
   ]
  },
  {
   "cell_type": "code",
   "execution_count": 9,
   "metadata": {},
   "outputs": [],
   "source": [
    "adata_3 = ad.AnnData(obs=adata_RNA.obs[['clusters_mclust', 'batch']], obsm={'SpaKnit': adata_RNA.obsm['DCCA']})"
   ]
  },
  {
   "cell_type": "code",
   "execution_count": 10,
   "metadata": {},
   "outputs": [],
   "source": [
    "adata_results = adata_1.concatenate(adata_2, adata_3, batch_key='batch')"
   ]
  },
  {
   "cell_type": "code",
   "execution_count": 11,
   "metadata": {},
   "outputs": [],
   "source": [
    "obs_df = adata_results.obs\n",
    "\n",
    "# 然后，重命名列名\n",
    "obs_df = obs_df.rename(columns={'clusters_mclust': 'SpaKnit'})\n",
    "\n",
    "# 最后，将修改后的DataFrame重新赋值给AnnData对象的obs属性\n",
    "adata_results.obs = obs_df"
   ]
  },
  {
   "cell_type": "code",
   "execution_count": 12,
   "metadata": {},
   "outputs": [],
   "source": [
    "results = sc.read_h5ad(f'D:/study/learning/spatial_transcriptome/papers/spatial_multi_omics-main/Results/Spatial_Scenario_{replicate}.h5ad')\n",
    "\n",
    "results.obs['SpaKnit'] = adata_results.obs['SpaKnit'].values\n",
    "results.obsm['SpaKnit'] = adata_results.obsm['SpaKnit']\n",
    "results.write_h5ad(f'D:/study/learning/spatial_transcriptome/papers/spatial_multi_omics-main/Results/Spatial_Scenario_{replicate}.h5ad')"
   ]
  },
  {
   "cell_type": "code",
   "execution_count": 14,
   "metadata": {},
   "outputs": [
    {
     "data": {
      "text/plain": [
       "AnnData object with n_obs × n_vars = 1200 × 3031\n",
       "    obs: 'Ground Truth', 'batch', 'SpaGCN', 'SpatialGlue', 'STAGATE', 'MultiMAP', 'MultiVI', 'Modality1', 'Modality2', 'SpaKnit'\n",
       "    obsm: 'Modality1', 'Modality2', 'MultiMAP', 'MultiVI', 'STAGATE', 'SpatialGlue', 'spatial', 'SpaKnit'"
      ]
     },
     "execution_count": 14,
     "metadata": {},
     "output_type": "execute_result"
    }
   ],
   "source": [
    "results"
   ]
  }
 ],
 "metadata": {
  "kernelspec": {
   "display_name": "base",
   "language": "python",
   "name": "python3"
  },
  "language_info": {
   "codemirror_mode": {
    "name": "ipython",
    "version": 3
   },
   "file_extension": ".py",
   "mimetype": "text/x-python",
   "name": "python",
   "nbconvert_exporter": "python",
   "pygments_lexer": "ipython3",
   "version": "3.11.5"
  }
 },
 "nbformat": 4,
 "nbformat_minor": 2
}
