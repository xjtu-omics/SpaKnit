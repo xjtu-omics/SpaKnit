{
 "cells": [
  {
   "cell_type": "markdown",
   "metadata": {},
   "source": [
    "# Plot the Results of the Mouse Spleen Dataset"
   ]
  },
  {
   "cell_type": "markdown",
   "metadata": {},
   "source": [
    "## Packages Loading"
   ]
  },
  {
   "cell_type": "code",
   "execution_count": 2,
   "metadata": {},
   "outputs": [],
   "source": [
    "import warnings\n",
    "warnings.filterwarnings('ignore')\n",
    "\n",
    "import matplotlib.pyplot as plt\n",
    "import scanpy as sc\n",
    "from sklearn.metrics.cluster import adjusted_rand_score\n",
    "\n",
    "import sys\n",
    "sys.path.append(r'../../../../')\n",
    "from Model.utils import reorder_categories"
   ]
  },
  {
   "cell_type": "markdown",
   "metadata": {},
   "source": [
    "## Results Loading"
   ]
  },
  {
   "cell_type": "code",
   "execution_count": 3,
   "metadata": {},
   "outputs": [],
   "source": [
    "slice_id = 2    # 1, 2\n",
    "\n",
    "adata_results = sc.read_h5ad(f'../../../Mouse_Spleen_Replicate{slice_id}.h5ad')"
   ]
  },
  {
   "cell_type": "markdown",
   "metadata": {},
   "source": [
    "## Plot the Spatial Domain Identifications"
   ]
  },
  {
   "cell_type": "code",
   "execution_count": 4,
   "metadata": {},
   "outputs": [],
   "source": [
    "## define the plot parameters\n",
    "colors_domain = {\n",
    "    'SpaKnit':      [   '#83c5be', '#f9c74f', '#fdf0d5', '#ee6055', '#99582a', '#3f5e66'    ],\n",
    "\n",
    "    'SpatialGlue':  [   '#83c5be', '#99582a', '#f9c74f', '#fdf0d5', '#3f5e66', '#ee6055'    ],\n",
    "\n",
    "    'Seurat':       [   '#83c5be', '#3f5e66', '#f9c74f', '#99582a', '#ee6055', '#fdf0d5'    ],\n",
    "\n",
    "    'MultiMAP':     [   '#83c5be', '#f9c74f', '#3f5e66', '#99582a', '#ee6055', '#fdf0d5'    ],\n",
    "\n",
    "    'MultiVI':      [   '#83c5be', '#ee6055', '#f9c74f', '#99582a', '#3f5e66', '#fdf0d5'    ],\n",
    "\n",
    "    'SpaGCN':       [   '#83c5be', '#fdf0d5', '#99582a', '#f9c74f', '#ee6055', '#3f5e66'    ], \n",
    "\n",
    "    'STAGATE':      [   '#3f5e66', '#83c5be', '#99582a', '#f9c74f', '#fdf0d5', '#ee6055'    ],\n",
    "\n",
    "    'Modality1':    [   '#83c5be', '#fdf0d5', '#99582a', '#ee6055', '#f9c74f', '#3f5e66'    ],  \n",
    "\n",
    "    'Modality2':    [   '#83c5be', '#99582a', '#f9c74f', '#ee6055', '#fdf0d5', '#3f5e66'    ],\n",
    "}\n",
    "font_size = 24\n",
    "\n",
    "save_path = f'../../Mouse_Spleen/replicate{slice_id}/'\n",
    "\n",
    "result_key = ['SpaKnit', 'SpatialGlue', 'Seurat', 'MultiMAP', 'MultiVI', 'SpaGCN', 'STAGATE', 'Modality1', 'Modality2']"
   ]
  },
  {
   "cell_type": "code",
   "execution_count": 1,
   "metadata": {},
   "outputs": [
    {
     "ename": "NameError",
     "evalue": "name 'plt' is not defined",
     "output_type": "error",
     "traceback": [
      "\u001b[1;31m---------------------------------------------------------------------------\u001b[0m",
      "\u001b[1;31mNameError\u001b[0m                                 Traceback (most recent call last)",
      "Cell \u001b[1;32mIn[1], line 1\u001b[0m\n\u001b[1;32m----> 1\u001b[0m plt\u001b[38;5;241m.\u001b[39mrcParams[\u001b[38;5;124m'\u001b[39m\u001b[38;5;124mfont.sans-serif\u001b[39m\u001b[38;5;124m'\u001b[39m] \u001b[38;5;241m=\u001b[39m [\u001b[38;5;124m'\u001b[39m\u001b[38;5;124mArial\u001b[39m\u001b[38;5;124m'\u001b[39m]\n\u001b[0;32m      2\u001b[0m plt\u001b[38;5;241m.\u001b[39mrcParams[\u001b[38;5;124m'\u001b[39m\u001b[38;5;124mfont.size\u001b[39m\u001b[38;5;124m'\u001b[39m] \u001b[38;5;241m=\u001b[39m font_size\n\u001b[0;32m      4\u001b[0m \u001b[38;5;28;01mfor\u001b[39;00m result \u001b[38;5;129;01min\u001b[39;00m result_key:\n",
      "\u001b[1;31mNameError\u001b[0m: name 'plt' is not defined"
     ]
    }
   ],
   "source": [
    "plt.rcParams['font.sans-serif'] = ['Arial']\n",
    "plt.rcParams['font.size'] = font_size\n",
    "\n",
    "for result in result_key:\n",
    "\n",
    "    fig, ax = plt.subplots(1, 1, figsize=(6, 6))\n",
    "    sc.pl.embedding(adata_results, basis='spatial', color=[result], ax=ax, s=130, show=False, palette=colors_domain[result])\n",
    "    ax.set_title(f\"\")\n",
    "    ax.set_xlabel('')\n",
    "    ax.set_ylabel('')\n",
    "\n",
    "    ax.get_legend().remove()\n",
    "\n",
    "    # Hide axis borders\n",
    "    for spine in ax.spines.values():\n",
    "        spine.set_visible(False)\n",
    "\n",
    "    # Adjust subplot parameters\n",
    "    plt.subplots_adjust(left=0, right=1, top=1, bottom=0)\n",
    "    plt.tight_layout()\n",
    "\n",
    "    plt.savefig(f'{result}.png', dpi=500)\n",
    "    plt.savefig(f'{result}.eps')\n",
    "\n",
    "    plt.show()"
   ]
  }
 ],
 "metadata": {
  "kernelspec": {
   "display_name": "SpaKnit",
   "language": "python",
   "name": "python3"
  },
  "language_info": {
   "codemirror_mode": {
    "name": "ipython",
    "version": 3
   },
   "file_extension": ".py",
   "mimetype": "text/x-python",
   "name": "python",
   "nbconvert_exporter": "python",
   "pygments_lexer": "ipython3",
   "version": "3.11.5"
  }
 },
 "nbformat": 4,
 "nbformat_minor": 2
}
